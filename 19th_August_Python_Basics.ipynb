{
 "cells": [
  {
   "cell_type": "code",
   "execution_count": 3,
   "id": "37ccb642-d39c-41f7-8a88-230d8501d802",
   "metadata": {},
   "outputs": [],
   "source": [
    "#Declare two variables, `x` and `y`, and assign them integer values. Swap the\n",
    "#values of these variables without using any temporary variable\n"
   ]
  },
  {
   "cell_type": "code",
   "execution_count": 9,
   "id": "3eb57a2a-6f0f-496d-835f-b47efb89a9cb",
   "metadata": {},
   "outputs": [
    {
     "name": "stdout",
     "output_type": "stream",
     "text": [
      "The value of x after swapping: 10\n",
      "The value of y after swapping: 5\n"
     ]
    }
   ],
   "source": [
    "x= 5\n",
    "y =10\n",
    "\n",
    "temp = x\n",
    "x=y\n",
    "y=temp\n",
    "print('The value of x after swapping: {}'.format(x))\n",
    "print('The value of y after swapping: {}'.format(y))"
   ]
  },
  {
   "cell_type": "code",
   "execution_count": 10,
   "id": "b74c0902-d77a-492b-bd95-716f244631b5",
   "metadata": {},
   "outputs": [],
   "source": [
    "# 2 . answer\n"
   ]
  },
  {
   "cell_type": "code",
   "execution_count": 14,
   "id": "b83b9d64-91b9-4f31-ab8f-f9cf255965f3",
   "metadata": {},
   "outputs": [
    {
     "name": "stdin",
     "output_type": "stream",
     "text": [
      "enter the lenght 55\n",
      "enter the width 5\n"
     ]
    },
    {
     "name": "stdout",
     "output_type": "stream",
     "text": [
      "area of rectangle is: 36.01\n"
     ]
    }
   ],
   "source": [
    "length = float (input(\"enter the lenght\"))\n",
    "width = float (input(\"enter the width\"))\n",
    "\n",
    "area = length*width\n",
    "\n",
    "print (\"area of rectangle is:\",area)"
   ]
  },
  {
   "cell_type": "code",
   "execution_count": 15,
   "id": "5c240285-d2d4-4523-b11d-5e04724eab07",
   "metadata": {},
   "outputs": [],
   "source": [
    "#3 . answer"
   ]
  },
  {
   "cell_type": "code",
   "execution_count": 16,
   "id": "ad5c848e-746e-4ee5-be0e-52bab07da1d6",
   "metadata": {},
   "outputs": [
    {
     "name": "stdout",
     "output_type": "stream",
     "text": [
      "104.00 Fahrenheit is equivalent to: 40.00 Celsius\n"
     ]
    }
   ],
   "source": [
    "# Temperature in Fahrenheit degree\n",
    "fahrenheit = 104\n",
    "\n",
    "# Converting the temperature to\n",
    "# fehrenheit\n",
    "celsius = (fahrenheit-32)/1.8\n",
    "\n",
    "# printing the result\n",
    "print('%.2f Fahrenheit is equivalent to: %.2f Celsius'\n",
    "\t% (fahrenheit ,celsius))\n"
   ]
  },
  {
   "cell_type": "code",
   "execution_count": 17,
   "id": "20f53105-fca2-40ca-94c8-b1e1ab830d93",
   "metadata": {},
   "outputs": [],
   "source": [
    "#String Based Questions"
   ]
  },
  {
   "cell_type": "code",
   "execution_count": 18,
   "id": "ddeb0287-5b84-45d0-81c9-1e272eb77386",
   "metadata": {},
   "outputs": [],
   "source": [
    "# 1 . answer"
   ]
  },
  {
   "cell_type": "code",
   "execution_count": 21,
   "id": "63d53577-6977-4bcb-8622-dad127bcf5d2",
   "metadata": {},
   "outputs": [
    {
     "name": "stdin",
     "output_type": "stream",
     "text": [
      "enter the string sentence vishan\n"
     ]
    },
    {
     "name": "stdout",
     "output_type": "stream",
     "text": [
      "length of the string input: 6\n"
     ]
    }
   ],
   "source": [
    "input_string = input(\"enter the string sentence\")\n",
    "\n",
    "string_length = len(input_string)\n",
    "\n",
    "print(\"length of the string input:\",string_length)"
   ]
  },
  {
   "cell_type": "code",
   "execution_count": 22,
   "id": "6ef2f4a0-4c19-484b-8bd6-2969af4bc4ab",
   "metadata": {},
   "outputs": [],
   "source": [
    "# 2 . answer"
   ]
  },
  {
   "cell_type": "code",
   "execution_count": 23,
   "id": "486d4a9c-2663-401f-814c-b932fc49989a",
   "metadata": {},
   "outputs": [
    {
     "name": "stdin",
     "output_type": "stream",
     "text": [
      "Enter a sentence:  vishan\n"
     ]
    },
    {
     "name": "stdout",
     "output_type": "stream",
     "text": [
      "Number of vowels: 2\n"
     ]
    }
   ],
   "source": [
    "sentence = input(\"Enter a sentence: \")\n",
    "vowel_count = 0\n",
    "for char in sentence:\n",
    "   \n",
    "    char_lower = char.lower()\n",
    "\n",
    "   \n",
    "    if char_lower in \"aeiou\":\n",
    "\n",
    "        vowel_count += 1\n",
    "\n",
    "\n",
    "print(\"Number of vowels:\", vowel_count)"
   ]
  },
  {
   "cell_type": "code",
   "execution_count": null,
   "id": "b3589cef-247b-4260-b945-843a06c7523e",
   "metadata": {},
   "outputs": [],
   "source": [
    "# 3 . answer\n"
   ]
  },
  {
   "cell_type": "code",
   "execution_count": 25,
   "id": "6475c8e6-0059-45f3-bd96-6fdf19bf543a",
   "metadata": {},
   "outputs": [
    {
     "name": "stdin",
     "output_type": "stream",
     "text": [
      "Enter a string:  vishan\n"
     ]
    },
    {
     "name": "stdout",
     "output_type": "stream",
     "text": [
      "Reversed string: nahsiv\n"
     ]
    }
   ],
   "source": [
    "input_string = input(\"Enter a string: \")\n",
    "\n",
    "reversed_string = input_string[::-1]\n",
    "\n",
    "print(\"Reversed string:\", reversed_string)"
   ]
  },
  {
   "cell_type": "code",
   "execution_count": null,
   "id": "b23cc609-2465-4444-b46f-24ddd37beaaf",
   "metadata": {},
   "outputs": [],
   "source": [
    "#4 . answer"
   ]
  },
  {
   "cell_type": "code",
   "execution_count": 27,
   "id": "429fd290-50c0-4fb5-8b77-1b6a4fab1548",
   "metadata": {},
   "outputs": [
    {
     "name": "stdin",
     "output_type": "stream",
     "text": [
      "enter the name vishan\n"
     ]
    },
    {
     "name": "stdout",
     "output_type": "stream",
     "text": [
      "The string is not a palindrome.\n"
     ]
    }
   ],
   "source": [
    "# Program to check if a string is palindrome or not\n",
    "\n",
    "my_str = input(\"enter the name\")\n",
    "\n",
    "# make it suitable for caseless comparison\n",
    "my_str = my_str.casefold()\n",
    "\n",
    "# reverse the string\n",
    "rev_str = reversed(my_str)\n",
    "\n",
    "# check if the string is equal to its reverse\n",
    "if list(my_str) == list(rev_str):\n",
    "   print(\"The string is a palindrome.\")\n",
    "else:\n",
    "   print(\"The string is not a palindrome.\")"
   ]
  },
  {
   "cell_type": "code",
   "execution_count": 28,
   "id": "d8452081-683a-4cfa-8762-23ac176702d6",
   "metadata": {},
   "outputs": [],
   "source": [
    "#5 . answer"
   ]
  },
  {
   "cell_type": "code",
   "execution_count": 30,
   "id": "00388f37-0ec4-4d4f-90e0-0ac58cb6e8ed",
   "metadata": {},
   "outputs": [
    {
     "name": "stdout",
     "output_type": "stream",
     "text": [
      "vishan\n"
     ]
    }
   ],
   "source": [
    "# Python3 code to remove whitespace\n",
    "def remove(string):\n",
    "\treturn string.replace(\" \", \"\")\n",
    "\n",
    "\n",
    "# Driver Program\n",
    "string = '  v   i  s   h  a  n '\n",
    "print(remove(string))\n"
   ]
  },
  {
   "cell_type": "code",
   "execution_count": null,
   "id": "1a9349b1-4a72-4230-a5f9-6056b536ff07",
   "metadata": {},
   "outputs": [],
   "source": []
  }
 ],
 "metadata": {
  "kernelspec": {
   "display_name": "Python 3 (ipykernel)",
   "language": "python",
   "name": "python3"
  },
  "language_info": {
   "codemirror_mode": {
    "name": "ipython",
    "version": 3
   },
   "file_extension": ".py",
   "mimetype": "text/x-python",
   "name": "python",
   "nbconvert_exporter": "python",
   "pygments_lexer": "ipython3",
   "version": "3.10.8"
  }
 },
 "nbformat": 4,
 "nbformat_minor": 5
}
